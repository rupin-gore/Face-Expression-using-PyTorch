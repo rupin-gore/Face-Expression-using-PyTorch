{
  "cells": [
    {
      "cell_type": "markdown",
      "metadata": {
        "id": "TVZJB6C5vobN"
      },
      "source": [
        "# Install libraries, packages and dataset"
      ]
    },
    {
      "cell_type": "code",
      "execution_count": null,
      "metadata": {
        "id": "WPaMVYICuTRa"
      },
      "outputs": [],
      "source": [
        "!git clone https://github.com/parth1620/Facial-Expression-Dataset.git\n",
        "!pip install -U git+https://github.com/albumentations-team/albumentations\n",
        "!pip install timm\n",
        "!pip install --upgrade opencv-contrib-python"
      ]
    },
    {
      "cell_type": "markdown",
      "metadata": {
        "id": "xoVVdBpoweEk"
      },
      "source": [
        "# Imports"
      ]
    },
    {
      "cell_type": "code",
      "execution_count": 26,
      "metadata": {
        "id": "creZrxH0vv20"
      },
      "outputs": [],
      "source": [
        "import numpy as np\n",
        "import matplotlib.pyplot as plt\n",
        "import torch"
      ]
    },
    {
      "cell_type": "markdown",
      "metadata": {
        "id": "p5604GKdwtAr"
      },
      "source": [
        "# Configurations"
      ]
    },
    {
      "cell_type": "code",
      "execution_count": 31,
      "metadata": {
        "id": "dd6v8vyGwp3F"
      },
      "outputs": [],
      "source": [
        "train_folder_path = 'Face-Expression-using-PyTorch/images/images/train'\n",
        "validation_folder_path = 'Face-Expression-using-PyTorch/images/images/validation'\n",
        "\n",
        "lr=0.0001\n",
        "batches=32\n",
        "epochs=10\n",
        "\n",
        "device = 'cuda'\n",
        "model_name = 'efficientnet_b0'"
      ]
    },
    {
      "cell_type": "markdown",
      "metadata": {
        "id": "wn5jWAF9xDUY"
      },
      "source": [
        "# Load Dataset"
      ]
    },
    {
      "cell_type": "code",
      "execution_count": 32,
      "metadata": {
        "id": "uvujfkVHxJ0V"
      },
      "outputs": [],
      "source": [
        "from torchvision.datasets import ImageFolder\n",
        "from torchvision import transforms as T"
      ]
    },
    {
      "cell_type": "code",
      "execution_count": 33,
      "metadata": {
        "id": "Jqf-Ktqsx9WL"
      },
      "outputs": [],
      "source": [
        "train_augs = T.Compose([\n",
        "   T.RandomHorizontalFlip(p=0.5),\n",
        "   T.RandomRotation(degrees=(-20,20)),\n",
        "   T.ToTensor()\n",
        "])\n",
        "\n",
        "valid_augs = T.Compose([\n",
        "   T.ToTensor()\n",
        "])"
      ]
    },
    {
      "cell_type": "code",
      "execution_count": null,
      "metadata": {
        "id": "oeU1NfmYxC7J"
      },
      "outputs": [
        {
          "ename": "FileNotFoundError",
          "evalue": "[WinError 3] The system cannot find the path specified: 'Facial-Expression-Dataset/images/train'",
          "output_type": "error",
          "traceback": [
            "\u001b[1;31m---------------------------------------------------------------------------\u001b[0m",
            "\u001b[1;31mFileNotFoundError\u001b[0m                         Traceback (most recent call last)",
            "Cell \u001b[1;32mIn[34], line 3\u001b[0m\n\u001b[0;32m      1\u001b[0m train_folder_path \u001b[38;5;241m=\u001b[39m \u001b[38;5;124m'\u001b[39m\u001b[38;5;124mFacial-Expression-Dataset/images/train\u001b[39m\u001b[38;5;124m'\u001b[39m\n\u001b[0;32m      2\u001b[0m validation_folder_path \u001b[38;5;241m=\u001b[39m \u001b[38;5;124m'\u001b[39m\u001b[38;5;124mFacial-Expression-Dataset/images/validation\u001b[39m\u001b[38;5;124m'\u001b[39m\n\u001b[1;32m----> 3\u001b[0m trainset \u001b[38;5;241m=\u001b[39m ImageFolder(train_folder_path, transform\u001b[38;5;241m=\u001b[39mtrain_augs)\n\u001b[0;32m      4\u001b[0m validset \u001b[38;5;241m=\u001b[39m ImageFolder(validation_folder_path, transform\u001b[38;5;241m=\u001b[39mvalid_augs)\n",
            "File \u001b[1;32mc:\\Users\\rupin\\anaconda3\\Lib\\site-packages\\torchvision\\datasets\\folder.py:328\u001b[0m, in \u001b[0;36mImageFolder.__init__\u001b[1;34m(self, root, transform, target_transform, loader, is_valid_file, allow_empty)\u001b[0m\n\u001b[0;32m    319\u001b[0m \u001b[38;5;28;01mdef\u001b[39;00m \u001b[38;5;21m__init__\u001b[39m(\n\u001b[0;32m    320\u001b[0m     \u001b[38;5;28mself\u001b[39m,\n\u001b[0;32m    321\u001b[0m     root: Union[\u001b[38;5;28mstr\u001b[39m, Path],\n\u001b[1;32m   (...)\u001b[0m\n\u001b[0;32m    326\u001b[0m     allow_empty: \u001b[38;5;28mbool\u001b[39m \u001b[38;5;241m=\u001b[39m \u001b[38;5;28;01mFalse\u001b[39;00m,\n\u001b[0;32m    327\u001b[0m ):\n\u001b[1;32m--> 328\u001b[0m     \u001b[38;5;28msuper\u001b[39m()\u001b[38;5;241m.\u001b[39m\u001b[38;5;21m__init__\u001b[39m(\n\u001b[0;32m    329\u001b[0m         root,\n\u001b[0;32m    330\u001b[0m         loader,\n\u001b[0;32m    331\u001b[0m         IMG_EXTENSIONS \u001b[38;5;28;01mif\u001b[39;00m is_valid_file \u001b[38;5;129;01mis\u001b[39;00m \u001b[38;5;28;01mNone\u001b[39;00m \u001b[38;5;28;01melse\u001b[39;00m \u001b[38;5;28;01mNone\u001b[39;00m,\n\u001b[0;32m    332\u001b[0m         transform\u001b[38;5;241m=\u001b[39mtransform,\n\u001b[0;32m    333\u001b[0m         target_transform\u001b[38;5;241m=\u001b[39mtarget_transform,\n\u001b[0;32m    334\u001b[0m         is_valid_file\u001b[38;5;241m=\u001b[39mis_valid_file,\n\u001b[0;32m    335\u001b[0m         allow_empty\u001b[38;5;241m=\u001b[39mallow_empty,\n\u001b[0;32m    336\u001b[0m     )\n\u001b[0;32m    337\u001b[0m     \u001b[38;5;28mself\u001b[39m\u001b[38;5;241m.\u001b[39mimgs \u001b[38;5;241m=\u001b[39m \u001b[38;5;28mself\u001b[39m\u001b[38;5;241m.\u001b[39msamples\n",
            "File \u001b[1;32mc:\\Users\\rupin\\anaconda3\\Lib\\site-packages\\torchvision\\datasets\\folder.py:149\u001b[0m, in \u001b[0;36mDatasetFolder.__init__\u001b[1;34m(self, root, loader, extensions, transform, target_transform, is_valid_file, allow_empty)\u001b[0m\n\u001b[0;32m    138\u001b[0m \u001b[38;5;28;01mdef\u001b[39;00m \u001b[38;5;21m__init__\u001b[39m(\n\u001b[0;32m    139\u001b[0m     \u001b[38;5;28mself\u001b[39m,\n\u001b[0;32m    140\u001b[0m     root: Union[\u001b[38;5;28mstr\u001b[39m, Path],\n\u001b[1;32m   (...)\u001b[0m\n\u001b[0;32m    146\u001b[0m     allow_empty: \u001b[38;5;28mbool\u001b[39m \u001b[38;5;241m=\u001b[39m \u001b[38;5;28;01mFalse\u001b[39;00m,\n\u001b[0;32m    147\u001b[0m ) \u001b[38;5;241m-\u001b[39m\u001b[38;5;241m>\u001b[39m \u001b[38;5;28;01mNone\u001b[39;00m:\n\u001b[0;32m    148\u001b[0m     \u001b[38;5;28msuper\u001b[39m()\u001b[38;5;241m.\u001b[39m\u001b[38;5;21m__init__\u001b[39m(root, transform\u001b[38;5;241m=\u001b[39mtransform, target_transform\u001b[38;5;241m=\u001b[39mtarget_transform)\n\u001b[1;32m--> 149\u001b[0m     classes, class_to_idx \u001b[38;5;241m=\u001b[39m \u001b[38;5;28mself\u001b[39m\u001b[38;5;241m.\u001b[39mfind_classes(\u001b[38;5;28mself\u001b[39m\u001b[38;5;241m.\u001b[39mroot)\n\u001b[0;32m    150\u001b[0m     samples \u001b[38;5;241m=\u001b[39m \u001b[38;5;28mself\u001b[39m\u001b[38;5;241m.\u001b[39mmake_dataset(\n\u001b[0;32m    151\u001b[0m         \u001b[38;5;28mself\u001b[39m\u001b[38;5;241m.\u001b[39mroot,\n\u001b[0;32m    152\u001b[0m         class_to_idx\u001b[38;5;241m=\u001b[39mclass_to_idx,\n\u001b[1;32m   (...)\u001b[0m\n\u001b[0;32m    155\u001b[0m         allow_empty\u001b[38;5;241m=\u001b[39mallow_empty,\n\u001b[0;32m    156\u001b[0m     )\n\u001b[0;32m    158\u001b[0m     \u001b[38;5;28mself\u001b[39m\u001b[38;5;241m.\u001b[39mloader \u001b[38;5;241m=\u001b[39m loader\n",
            "File \u001b[1;32mc:\\Users\\rupin\\anaconda3\\Lib\\site-packages\\torchvision\\datasets\\folder.py:234\u001b[0m, in \u001b[0;36mDatasetFolder.find_classes\u001b[1;34m(self, directory)\u001b[0m\n\u001b[0;32m    207\u001b[0m \u001b[38;5;28;01mdef\u001b[39;00m \u001b[38;5;21mfind_classes\u001b[39m(\u001b[38;5;28mself\u001b[39m, directory: Union[\u001b[38;5;28mstr\u001b[39m, Path]) \u001b[38;5;241m-\u001b[39m\u001b[38;5;241m>\u001b[39m Tuple[List[\u001b[38;5;28mstr\u001b[39m], Dict[\u001b[38;5;28mstr\u001b[39m, \u001b[38;5;28mint\u001b[39m]]:\n\u001b[0;32m    208\u001b[0m \u001b[38;5;250m    \u001b[39m\u001b[38;5;124;03m\"\"\"Find the class folders in a dataset structured as follows::\u001b[39;00m\n\u001b[0;32m    209\u001b[0m \n\u001b[0;32m    210\u001b[0m \u001b[38;5;124;03m        directory/\u001b[39;00m\n\u001b[1;32m   (...)\u001b[0m\n\u001b[0;32m    232\u001b[0m \u001b[38;5;124;03m        (Tuple[List[str], Dict[str, int]]): List of all classes and dictionary mapping each class to an index.\u001b[39;00m\n\u001b[0;32m    233\u001b[0m \u001b[38;5;124;03m    \"\"\"\u001b[39;00m\n\u001b[1;32m--> 234\u001b[0m     \u001b[38;5;28;01mreturn\u001b[39;00m find_classes(directory)\n",
            "File \u001b[1;32mc:\\Users\\rupin\\anaconda3\\Lib\\site-packages\\torchvision\\datasets\\folder.py:41\u001b[0m, in \u001b[0;36mfind_classes\u001b[1;34m(directory)\u001b[0m\n\u001b[0;32m     36\u001b[0m \u001b[38;5;28;01mdef\u001b[39;00m \u001b[38;5;21mfind_classes\u001b[39m(directory: Union[\u001b[38;5;28mstr\u001b[39m, Path]) \u001b[38;5;241m-\u001b[39m\u001b[38;5;241m>\u001b[39m Tuple[List[\u001b[38;5;28mstr\u001b[39m], Dict[\u001b[38;5;28mstr\u001b[39m, \u001b[38;5;28mint\u001b[39m]]:\n\u001b[0;32m     37\u001b[0m \u001b[38;5;250m    \u001b[39m\u001b[38;5;124;03m\"\"\"Finds the class folders in a dataset.\u001b[39;00m\n\u001b[0;32m     38\u001b[0m \n\u001b[0;32m     39\u001b[0m \u001b[38;5;124;03m    See :class:`DatasetFolder` for details.\u001b[39;00m\n\u001b[0;32m     40\u001b[0m \u001b[38;5;124;03m    \"\"\"\u001b[39;00m\n\u001b[1;32m---> 41\u001b[0m     classes \u001b[38;5;241m=\u001b[39m \u001b[38;5;28msorted\u001b[39m(entry\u001b[38;5;241m.\u001b[39mname \u001b[38;5;28;01mfor\u001b[39;00m entry \u001b[38;5;129;01min\u001b[39;00m os\u001b[38;5;241m.\u001b[39mscandir(directory) \u001b[38;5;28;01mif\u001b[39;00m entry\u001b[38;5;241m.\u001b[39mis_dir())\n\u001b[0;32m     42\u001b[0m     \u001b[38;5;28;01mif\u001b[39;00m \u001b[38;5;129;01mnot\u001b[39;00m classes:\n\u001b[0;32m     43\u001b[0m         \u001b[38;5;28;01mraise\u001b[39;00m \u001b[38;5;167;01mFileNotFoundError\u001b[39;00m(\u001b[38;5;124mf\u001b[39m\u001b[38;5;124m\"\u001b[39m\u001b[38;5;124mCouldn\u001b[39m\u001b[38;5;124m'\u001b[39m\u001b[38;5;124mt find any class folder in \u001b[39m\u001b[38;5;132;01m{\u001b[39;00mdirectory\u001b[38;5;132;01m}\u001b[39;00m\u001b[38;5;124m.\u001b[39m\u001b[38;5;124m\"\u001b[39m)\n",
            "\u001b[1;31mFileNotFoundError\u001b[0m: [WinError 3] The system cannot find the path specified: 'Facial-Expression-Dataset/images/train'"
          ]
        }
      ],
      "source": [
        "trainset = ImageFolder(train_folder_path, transform=train_augs)\n",
        "validset = ImageFolder(validation_folder_path, transform=valid_augs)"
      ]
    },
    {
      "cell_type": "code",
      "execution_count": 35,
      "metadata": {
        "id": "eznRIKAzzuCj"
      },
      "outputs": [
        {
          "ename": "NameError",
          "evalue": "name 'trainset' is not defined",
          "output_type": "error",
          "traceback": [
            "\u001b[1;31m---------------------------------------------------------------------------\u001b[0m",
            "\u001b[1;31mNameError\u001b[0m                                 Traceback (most recent call last)",
            "Cell \u001b[1;32mIn[35], line 1\u001b[0m\n\u001b[1;32m----> 1\u001b[0m \u001b[38;5;28mprint\u001b[39m(\u001b[38;5;124mf\u001b[39m\u001b[38;5;124m\"\u001b[39m\u001b[38;5;124mTotal no. of examples in trainset : \u001b[39m\u001b[38;5;132;01m{\u001b[39;00m\u001b[38;5;28mlen\u001b[39m(trainset)\u001b[38;5;132;01m}\u001b[39;00m\u001b[38;5;124m\"\u001b[39m)\n\u001b[0;32m      2\u001b[0m \u001b[38;5;28mprint\u001b[39m(\u001b[38;5;124mf\u001b[39m\u001b[38;5;124m\"\u001b[39m\u001b[38;5;124mTotal no. of examples in validset : \u001b[39m\u001b[38;5;132;01m{\u001b[39;00m\u001b[38;5;28mlen\u001b[39m(validset)\u001b[38;5;132;01m}\u001b[39;00m\u001b[38;5;124m\"\u001b[39m)\n",
            "\u001b[1;31mNameError\u001b[0m: name 'trainset' is not defined"
          ]
        }
      ],
      "source": [
        "print(f\"Total no. of examples in trainset : {len(trainset)}\")\n",
        "print(f\"Total no. of examples in validset : {len(validset)}\")"
      ]
    },
    {
      "cell_type": "code",
      "execution_count": 36,
      "metadata": {
        "id": "NtoA4SRny_vz"
      },
      "outputs": [
        {
          "ename": "NameError",
          "evalue": "name 'trainset' is not defined",
          "output_type": "error",
          "traceback": [
            "\u001b[1;31m---------------------------------------------------------------------------\u001b[0m",
            "\u001b[1;31mNameError\u001b[0m                                 Traceback (most recent call last)",
            "Cell \u001b[1;32mIn[36], line 1\u001b[0m\n\u001b[1;32m----> 1\u001b[0m \u001b[38;5;28mprint\u001b[39m(trainset\u001b[38;5;241m.\u001b[39mclass_to_idx)\n",
            "\u001b[1;31mNameError\u001b[0m: name 'trainset' is not defined"
          ]
        }
      ],
      "source": [
        "print(trainset.class_to_idx)"
      ]
    },
    {
      "cell_type": "code",
      "execution_count": 37,
      "metadata": {
        "id": "0-b1SLqNw91J"
      },
      "outputs": [
        {
          "ename": "NameError",
          "evalue": "name 'trainset' is not defined",
          "output_type": "error",
          "traceback": [
            "\u001b[1;31m---------------------------------------------------------------------------\u001b[0m",
            "\u001b[1;31mNameError\u001b[0m                                 Traceback (most recent call last)",
            "Cell \u001b[1;32mIn[37], line 1\u001b[0m\n\u001b[1;32m----> 1\u001b[0m image, label \u001b[38;5;241m=\u001b[39m trainset[\u001b[38;5;241m6390\u001b[39m]\n\u001b[0;32m      3\u001b[0m plt\u001b[38;5;241m.\u001b[39mimshow(image\u001b[38;5;241m.\u001b[39mpermute(\u001b[38;5;241m1\u001b[39m,\u001b[38;5;241m2\u001b[39m,\u001b[38;5;241m0\u001b[39m))\n\u001b[0;32m      4\u001b[0m plt\u001b[38;5;241m.\u001b[39mtitle(label)\n",
            "\u001b[1;31mNameError\u001b[0m: name 'trainset' is not defined"
          ]
        }
      ],
      "source": [
        "image, label = trainset[6390]\n",
        "\n",
        "plt.imshow(image.permute(1,2,0))\n",
        "plt.title(label)"
      ]
    },
    {
      "cell_type": "markdown",
      "metadata": {
        "id": "UjVmykAGy0Sh"
      },
      "source": [
        "# Load Dataset into Batches"
      ]
    },
    {
      "cell_type": "code",
      "execution_count": null,
      "metadata": {
        "id": "egpuikhHymP7"
      },
      "outputs": [],
      "source": [
        "from torch.utils.data import DataLoader"
      ]
    },
    {
      "cell_type": "code",
      "execution_count": null,
      "metadata": {
        "id": "Pea8G9-HzhuZ"
      },
      "outputs": [],
      "source": [
        "trainloader = DataLoader(trainset, batch_size= batches, shuffle=True)\n",
        "validloader = DataLoader(validset, batch_size= batches)"
      ]
    },
    {
      "cell_type": "code",
      "execution_count": null,
      "metadata": {
        "id": "mjf9oeOBzihh"
      },
      "outputs": [],
      "source": [
        "print(f\"Total no. of batches in trainloader : {len(trainloader)}\")\n",
        "print(f\"Total no. of batches in validloader : {len(validloader)}\")"
      ]
    },
    {
      "cell_type": "code",
      "execution_count": null,
      "metadata": {
        "id": "vtVSVVj-zp1C"
      },
      "outputs": [],
      "source": [
        "for images, labels in trainLoader:\n",
        "   break\n",
        "\n",
        "print(f\"One image batch shape : {images.shape}\")\n",
        "print(f\"One label batch shape : {labels.shape}\")"
      ]
    },
    {
      "cell_type": "markdown",
      "metadata": {
        "id": "GQvgvbKu0TUG"
      },
      "source": [
        "# Create Model"
      ]
    },
    {
      "cell_type": "code",
      "execution_count": null,
      "metadata": {
        "id": "iqwWf5-O0SWP"
      },
      "outputs": [],
      "source": [
        "import timm\n",
        "from torch import nn"
      ]
    },
    {
      "cell_type": "code",
      "execution_count": null,
      "metadata": {
        "id": "U6uJZmUw0XJX"
      },
      "outputs": [],
      "source": [
        "class FaceModel(nn.Module):\n",
        "\tdef __init__(self):\n",
        "\t\tsuper(FaceModel, self).__init__()\n",
        "\t\tself.efficientnet = timm.create_model('efficientnet_b0', pretrained=True, num_classes=7)\n",
        "      \n",
        "\tdef forward(self, images, labels=None):\n",
        "\t\tlogits = self.efficientnet(images)\n",
        "\n",
        "\t\tif labels != None:\n",
        "\t\t\tloss = nn.CrossEntropyLoss()(logits, labels)\n",
        "\t\t\treturn logits, loss\n",
        "\t\t\n",
        "\t\treturn logits"
      ]
    },
    {
      "cell_type": "code",
      "execution_count": null,
      "metadata": {
        "id": "hgp5OjEO0_2w"
      },
      "outputs": [],
      "source": [
        "model = FaceModel()\n",
        "model.to(device)"
      ]
    },
    {
      "cell_type": "markdown",
      "metadata": {
        "id": "GzDb6TdaCpF5"
      },
      "source": [
        "# Create Train and Eval Function"
      ]
    },
    {
      "cell_type": "code",
      "execution_count": null,
      "metadata": {
        "id": "eLQVQA0PVjX8"
      },
      "outputs": [],
      "source": [
        "from tqdm import tqdm"
      ]
    },
    {
      "cell_type": "code",
      "execution_count": null,
      "metadata": {
        "id": "esp-tSrxTiPX"
      },
      "outputs": [],
      "source": [
        "def multiclass_accuracy(y_pred,y_true):\n",
        "    top_p,top_class = y_pred.topk(1,dim = 1)\n",
        "    equals = top_class == y_true.view(*top_class.shape)\n",
        "    return torch.mean(equals.type(torch.FloatTensor))"
      ]
    },
    {
      "cell_type": "code",
      "execution_count": null,
      "metadata": {
        "id": "QBim_pZxColX"
      },
      "outputs": [],
      "source": [
        "def train_fn(model, dataloader, optimizer, current_epo):\n",
        "\tmodel.train()\n",
        "\ttotal_loss=0.0\n",
        "\ttotal_acc=0.0\n",
        "\ttk = tqdm(dataloader, desc = \"EPOCH\" + \"[TRAIN]\" + str(current_epo + 1) + \"/`\" + str(epochs))\n",
        "   \n",
        "\tfor t, data in enumerate(tk):\n",
        "\t\timages, labels =data\n",
        "\t\timages, labels = images.to(device), labels.to(device)\n",
        "\n",
        "\t\toptimizer.zero_grad()\n",
        "\t\tlogits, loss = model(images, labels)\n",
        "\t\tloss.backwar()\n",
        "\t\toptimizer.step()\n",
        "\n",
        "\t\ttotal_loss+=loss.item()\n",
        "\t\ttotal_acc+=multiclass_accuracy(logits, labels)\n",
        "\t\ttk.set_postfix({'loss' : '%5f' %float(loss = total_loss/(t+1)), 'acc' : '%5f' %float(accuracy = total_acc/(t+1)),})\n",
        "\n",
        "\treturn total_loss/len(dataloader), total_acc/len(dataloader)"
      ]
    },
    {
      "cell_type": "code",
      "execution_count": null,
      "metadata": {
        "id": "T3eGYNqR1FeL"
      },
      "outputs": [],
      "source": [
        "def eval_fn(model, dataloader, current_epo):\n",
        "\tmodel.eval()\n",
        "\ttotal_loss=0.0\n",
        "\ttotal_acc=0.0\n",
        "\ttk = tqdm(dataloader, desc = \"EPOCH\" + \"[VALID]\" + str(current_epo + 1) + \"/`\" + str(epochs))\n",
        "   \n",
        "\tfor t, data in enumerate(tk):\n",
        "\t\timages, labels =data\n",
        "\t\timages, labels = images.to(device), labels.to(device)\n",
        "\n",
        "\t\tlogits, loss = model(images, labels)\n",
        "\n",
        "\t\ttotal_loss+=loss.item()\n",
        "\t\ttotal_acc+=multiclass_accuracy(logits, labels)\n",
        "\t\ttk.set_postfix({'loss' : '%5f' %float(loss = total_loss/(t+1)), 'acc' : '%5f' %float(accuracy = total_acc/(t+1)),})\n",
        "\n",
        "\treturn total_loss/len(dataloader), total_acc/len(dataloader)"
      ]
    },
    {
      "cell_type": "markdown",
      "metadata": {
        "id": "f2YsWQvsXiKG"
      },
      "source": [
        "# Create Training Loop"
      ]
    },
    {
      "cell_type": "code",
      "execution_count": null,
      "metadata": {
        "id": "mbKd9D7pWeM_"
      },
      "outputs": [],
      "source": [
        "optimizer = torch.optim.Adam(model.parameters(), lr=lr)"
      ]
    },
    {
      "cell_type": "code",
      "execution_count": null,
      "metadata": {
        "id": "E8yzdLmLXkC-"
      },
      "outputs": [],
      "source": [
        "bet_valid_loss = np.Inf\n",
        "\n",
        "for i in range(epochs):\n",
        "\ttrain_loss, train_acc = train_fn(model, trainloader, optimizer, i)\n",
        "\tvalid_loss, valid_acc = eval_fn(model, validloader, i)\n",
        "   \n",
        "\tif valid_loss < bet_valid_loss:\n",
        "\t\ttorch.save(model.state_dict(), 'best-weights.pth')\n",
        "\t\tprint(\"Saved best weights\")\n",
        "\t\tbet_valid_loss = valid_loss"
      ]
    },
    {
      "cell_type": "markdown",
      "metadata": {
        "id": "cjiklrErXkZ6"
      },
      "source": [
        "# Inference"
      ]
    },
    {
      "cell_type": "code",
      "execution_count": null,
      "metadata": {
        "id": "8iozgi4xhLNg"
      },
      "outputs": [],
      "source": [
        "def view_classify(img, ps):\n",
        "\n",
        "    classes = ['angry', 'disgust', 'fear', 'happy', 'neutral', 'sad', 'surprise']\n",
        "\n",
        "    ps = ps.data.cpu().numpy().squeeze()\n",
        "    img = img.numpy().transpose(1,2,0)\n",
        "\n",
        "    fig, (ax1, ax2) = plt.subplots(figsize=(5,9), ncols=2)\n",
        "    ax1.imshow(img)\n",
        "    ax1.axis('off')\n",
        "    ax2.barh(classes, ps)\n",
        "    ax2.set_aspect(0.1)\n",
        "    ax2.set_yticks(classes)\n",
        "    ax2.set_yticklabels(classes)\n",
        "    ax2.set_title('Class Probability')\n",
        "    ax2.set_xlim(0, 1.1)\n",
        "\n",
        "    plt.tight_layout()\n",
        "\n",
        "    return None"
      ]
    }
  ],
  "metadata": {
    "accelerator": "GPU",
    "colab": {
      "provenance": []
    },
    "kernelspec": {
      "display_name": "base",
      "language": "python",
      "name": "python3"
    },
    "language_info": {
      "codemirror_mode": {
        "name": "ipython",
        "version": 3
      },
      "file_extension": ".py",
      "mimetype": "text/x-python",
      "name": "python",
      "nbconvert_exporter": "python",
      "pygments_lexer": "ipython3",
      "version": "3.11.5"
    }
  },
  "nbformat": 4,
  "nbformat_minor": 0
}
